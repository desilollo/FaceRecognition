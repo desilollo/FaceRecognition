{
 "cells": [
  {
   "cell_type": "code",
   "execution_count": 1,
   "metadata": {},
   "outputs": [
    {
     "name": "stdout",
     "output_type": "stream",
     "text": [
      "Requirement already satisfied: keras in c:\\users\\loren\\appdata\\local\\continuum\\anaconda3\\lib\\site-packages (2.3.1)\n",
      "Requirement already satisfied: keras-preprocessing>=1.0.5 in c:\\users\\loren\\appdata\\local\\continuum\\anaconda3\\lib\\site-packages (from keras) (1.1.0)\n",
      "Requirement already satisfied: keras-applications>=1.0.6 in c:\\users\\loren\\appdata\\local\\continuum\\anaconda3\\lib\\site-packages (from keras) (1.0.8)\n",
      "Requirement already satisfied: numpy>=1.9.1 in c:\\users\\loren\\appdata\\local\\continuum\\anaconda3\\lib\\site-packages (from keras) (1.16.5)\n",
      "Requirement already satisfied: six>=1.9.0 in c:\\users\\loren\\appdata\\local\\continuum\\anaconda3\\lib\\site-packages (from keras) (1.12.0)\n",
      "Requirement already satisfied: scipy>=0.14 in c:\\users\\loren\\appdata\\local\\continuum\\anaconda3\\lib\\site-packages (from keras) (1.1.0)\n",
      "Requirement already satisfied: h5py in c:\\users\\loren\\appdata\\local\\continuum\\anaconda3\\lib\\site-packages (from keras) (2.9.0)\n",
      "Requirement already satisfied: pyyaml in c:\\users\\loren\\appdata\\local\\continuum\\anaconda3\\lib\\site-packages (from keras) (5.1.2)\n",
      "Note: you may need to restart the kernel to use updated packages.\n"
     ]
    }
   ],
   "source": [
    "pip install keras"
   ]
  },
  {
   "cell_type": "code",
   "execution_count": 2,
   "metadata": {},
   "outputs": [
    {
     "name": "stdout",
     "output_type": "stream",
     "text": [
      "Requirement already satisfied: tensorflow==1.14 in c:\\users\\loren\\appdata\\local\\continuum\\anaconda3\\lib\\site-packages (1.14.0)\n",
      "Requirement already satisfied: tensorflow-estimator<1.15.0rc0,>=1.14.0rc0 in c:\\users\\loren\\appdata\\local\\continuum\\anaconda3\\lib\\site-packages (from tensorflow==1.14) (1.14.0)\n",
      "Requirement already satisfied: wheel>=0.26 in c:\\users\\loren\\appdata\\local\\continuum\\anaconda3\\lib\\site-packages (from tensorflow==1.14) (0.34.2)\n",
      "Requirement already satisfied: astor>=0.6.0 in c:\\users\\loren\\appdata\\local\\continuum\\anaconda3\\lib\\site-packages (from tensorflow==1.14) (0.8.1)\n",
      "Requirement already satisfied: google-pasta>=0.1.6 in c:\\users\\loren\\appdata\\local\\continuum\\anaconda3\\lib\\site-packages (from tensorflow==1.14) (0.1.8)\n",
      "Requirement already satisfied: termcolor>=1.1.0 in c:\\users\\loren\\appdata\\local\\continuum\\anaconda3\\lib\\site-packages (from tensorflow==1.14) (1.1.0)\n",
      "Requirement already satisfied: keras-preprocessing>=1.0.5 in c:\\users\\loren\\appdata\\local\\continuum\\anaconda3\\lib\\site-packages (from tensorflow==1.14) (1.1.0)\n",
      "Requirement already satisfied: wrapt>=1.11.1 in c:\\users\\loren\\appdata\\local\\continuum\\anaconda3\\lib\\site-packages (from tensorflow==1.14) (1.11.2)\n",
      "Requirement already satisfied: protobuf>=3.6.1 in c:\\users\\loren\\appdata\\local\\continuum\\anaconda3\\lib\\site-packages (from tensorflow==1.14) (3.11.1)\n",
      "Requirement already satisfied: gast>=0.2.0 in c:\\users\\loren\\appdata\\local\\continuum\\anaconda3\\lib\\site-packages (from tensorflow==1.14) (0.2.2)\n",
      "Requirement already satisfied: six>=1.10.0 in c:\\users\\loren\\appdata\\local\\continuum\\anaconda3\\lib\\site-packages (from tensorflow==1.14) (1.12.0)\n",
      "Requirement already satisfied: tensorboard<1.15.0,>=1.14.0 in c:\\users\\loren\\appdata\\local\\continuum\\anaconda3\\lib\\site-packages (from tensorflow==1.14) (1.14.0)\n",
      "Requirement already satisfied: absl-py>=0.7.0 in c:\\users\\loren\\appdata\\local\\continuum\\anaconda3\\lib\\site-packages (from tensorflow==1.14) (0.9.0)\n",
      "Requirement already satisfied: grpcio>=1.8.6 in c:\\users\\loren\\appdata\\local\\continuum\\anaconda3\\lib\\site-packages (from tensorflow==1.14) (1.26.0)\n",
      "Requirement already satisfied: numpy<2.0,>=1.14.5 in c:\\users\\loren\\appdata\\local\\continuum\\anaconda3\\lib\\site-packages (from tensorflow==1.14) (1.16.5)\n",
      "Requirement already satisfied: keras-applications>=1.0.6 in c:\\users\\loren\\appdata\\local\\continuum\\anaconda3\\lib\\site-packages (from tensorflow==1.14) (1.0.8)\n",
      "Requirement already satisfied: setuptools in c:\\users\\loren\\appdata\\local\\continuum\\anaconda3\\lib\\site-packages (from protobuf>=3.6.1->tensorflow==1.14) (41.4.0)\n",
      "Requirement already satisfied: werkzeug>=0.11.15 in c:\\users\\loren\\appdata\\local\\continuum\\anaconda3\\lib\\site-packages (from tensorboard<1.15.0,>=1.14.0->tensorflow==1.14) (0.16.0)\n",
      "Requirement already satisfied: markdown>=2.6.8 in c:\\users\\loren\\appdata\\local\\continuum\\anaconda3\\lib\\site-packages (from tensorboard<1.15.0,>=1.14.0->tensorflow==1.14) (3.1.1)\n",
      "Requirement already satisfied: h5py in c:\\users\\loren\\appdata\\local\\continuum\\anaconda3\\lib\\site-packages (from keras-applications>=1.0.6->tensorflow==1.14) (2.9.0)\n",
      "Note: you may need to restart the kernel to use updated packages.\n"
     ]
    }
   ],
   "source": [
    "pip install tensorflow==1.14"
   ]
  },
  {
   "cell_type": "code",
   "execution_count": 4,
   "metadata": {},
   "outputs": [
    {
     "name": "stdout",
     "output_type": "stream",
     "text": [
      "Collecting mtcnn\n",
      "  Downloading mtcnn-0.1.0-py3-none-any.whl (2.3 MB)\n",
      "Requirement already satisfied: opencv-python>=4.1.0 in c:\\users\\loren\\appdata\\local\\continuum\\anaconda3\\lib\\site-packages (from mtcnn) (4.1.2.30)\n",
      "Requirement already satisfied: keras>=2.0.0 in c:\\users\\loren\\appdata\\local\\continuum\\anaconda3\\lib\\site-packages (from mtcnn) (2.3.1)\n",
      "Requirement already satisfied: numpy>=1.14.5 in c:\\users\\loren\\appdata\\local\\continuum\\anaconda3\\lib\\site-packages (from opencv-python>=4.1.0->mtcnn) (1.16.5)\n",
      "Requirement already satisfied: six>=1.9.0 in c:\\users\\loren\\appdata\\local\\continuum\\anaconda3\\lib\\site-packages (from keras>=2.0.0->mtcnn) (1.12.0)\n",
      "Requirement already satisfied: keras-applications>=1.0.6 in c:\\users\\loren\\appdata\\local\\continuum\\anaconda3\\lib\\site-packages (from keras>=2.0.0->mtcnn) (1.0.8)\n",
      "Requirement already satisfied: pyyaml in c:\\users\\loren\\appdata\\local\\continuum\\anaconda3\\lib\\site-packages (from keras>=2.0.0->mtcnn) (5.1.2)\n",
      "Requirement already satisfied: h5py in c:\\users\\loren\\appdata\\local\\continuum\\anaconda3\\lib\\site-packages (from keras>=2.0.0->mtcnn) (2.9.0)\n",
      "Requirement already satisfied: scipy>=0.14 in c:\\users\\loren\\appdata\\local\\continuum\\anaconda3\\lib\\site-packages (from keras>=2.0.0->mtcnn) (1.1.0)\n",
      "Requirement already satisfied: keras-preprocessing>=1.0.5 in c:\\users\\loren\\appdata\\local\\continuum\\anaconda3\\lib\\site-packages (from keras>=2.0.0->mtcnn) (1.1.0)\n",
      "Installing collected packages: mtcnn\n",
      "Successfully installed mtcnn-0.1.0\n",
      "Note: you may need to restart the kernel to use updated packages.\n"
     ]
    }
   ],
   "source": [
    "pip install mtcnn"
   ]
  },
  {
   "cell_type": "markdown",
   "metadata": {},
   "source": [
    "# Functions needed"
   ]
  },
  {
   "cell_type": "code",
   "execution_count": 5,
   "metadata": {
    "scrolled": false
   },
   "outputs": [
    {
     "name": "stderr",
     "output_type": "stream",
     "text": [
      "Using TensorFlow backend.\n"
     ]
    }
   ],
   "source": [
    "# function for face detection with mtcnn\n",
    "from PIL import Image\n",
    "from numpy import asarray\n",
    "from mtcnn.mtcnn import MTCNN"
   ]
  },
  {
   "cell_type": "code",
   "execution_count": 6,
   "metadata": {},
   "outputs": [],
   "source": [
    "# demonstrate face detection on 5 Celebrity Faces Dataset\n",
    "from os import listdir\n",
    "from os.path import isdir\n",
    "from PIL import Image\n",
    "from matplotlib import pyplot\n",
    "from numpy import savez_compressed"
   ]
  },
  {
   "cell_type": "markdown",
   "metadata": {},
   "source": [
    "# Extract and load faces"
   ]
  },
  {
   "cell_type": "code",
   "execution_count": 7,
   "metadata": {},
   "outputs": [],
   "source": [
    "# extract a single face from a given photograph\n",
    "def extract_face(filename, required_size=(160, 160)):\n",
    "    # load image from file\n",
    "    image = Image.open(filename)\n",
    "    # convert to RGB, if needed\n",
    "    image = image.convert('RGB')\n",
    "    # convert to array\n",
    "    pixels = asarray(image)\n",
    "    # create the detector, using default weights\n",
    "    detector = MTCNN()\n",
    "    # detect faces in the image\n",
    "    results = detector.detect_faces(pixels)\n",
    "    # extract the bounding box from the first face\n",
    "    x1, y1, width, height = results[0]['box']\n",
    "    # bug fix\n",
    "    x1, y1 = abs(x1), abs(y1)\n",
    "    x2, y2 = x1 + width, y1 + height\n",
    "    # extract the face\n",
    "    face = pixels[y1:y2, x1:x2]\n",
    "    # resize pixels to the model size\n",
    "    image = Image.fromarray(face) #Creates an image memory from an object exporting the array interface \n",
    "    image = image.resize(required_size)\n",
    "    face_array = asarray(image)\n",
    "    return face_array\n",
    "\n",
    "# load images and extract faces for all images in a directory\n",
    "def load_faces(directory):\n",
    "    faces = list()\n",
    "    # enumerate files\n",
    "    for filename in listdir(directory):\n",
    "        # path\n",
    "        path = directory + filename\n",
    "        # get face\n",
    "        face = extract_face(path)\n",
    "        # store\n",
    "        faces.append(face)\n",
    "    return faces"
   ]
  },
  {
   "cell_type": "markdown",
   "metadata": {},
   "source": [
    "# Load all the dataset"
   ]
  },
  {
   "cell_type": "code",
   "execution_count": 8,
   "metadata": {},
   "outputs": [],
   "source": [
    "# load a dataset that contains one subdir for each class that in turn contains images\n",
    "def load_dataset(directory):\n",
    "    X, y = list(), list()\n",
    "    # enumerate folders, on per class\n",
    "    for subdir in listdir(directory):\n",
    "        # path\n",
    "        path = directory + subdir + '/' \n",
    "        # skip any files that might be in the dir\n",
    "        if not listdir(path):   \n",
    "            continue    \n",
    "        # load all faces in the subdirectory\n",
    "        faces = load_faces(path)\n",
    "        # create labels\n",
    "        labels = [subdir for _ in range(len(faces))]\n",
    "        \n",
    "        # summarize progress\n",
    "        print('>loaded %d examples for class: %s' % (len(faces), subdir))\n",
    "        \n",
    "        # store \n",
    "        X.extend(faces)  #create list with faces iteration \n",
    "        y.extend(labels) #create list with labels iteration\n",
    "    return asarray(X), asarray(y)"
   ]
  },
  {
   "cell_type": "code",
   "execution_count": 9,
   "metadata": {},
   "outputs": [
    {
     "name": "stdout",
     "output_type": "stream",
     "text": [
      "WARNING:tensorflow:From C:\\Users\\loren\\AppData\\Local\\Continuum\\anaconda3\\lib\\site-packages\\keras\\backend\\tensorflow_backend.py:4070: The name tf.nn.max_pool is deprecated. Please use tf.nn.max_pool2d instead.\n",
      "\n",
      "WARNING:tensorflow:From C:\\Users\\loren\\AppData\\Local\\Continuum\\anaconda3\\lib\\site-packages\\keras\\backend\\tensorflow_backend.py:422: The name tf.global_variables is deprecated. Please use tf.compat.v1.global_variables instead.\n",
      "\n",
      ">loaded 14 examples for class: ben_afflek\n",
      ">loaded 7 examples for class: di_Caprio\n",
      ">loaded 17 examples for class: elton_john\n",
      ">loaded 21 examples for class: jerry_seinfeld\n",
      ">loaded 19 examples for class: madonna\n",
      ">loaded 22 examples for class: mindy_kaling\n",
      ">loaded 13 examples for class: totti\n",
      "(113, 160, 160, 3) (113,)\n",
      ">loaded 5 examples for class: ben_afflek\n",
      ">loaded 4 examples for class: di_Caprio\n",
      ">loaded 5 examples for class: elton_john\n",
      ">loaded 5 examples for class: jerry_seinfeld\n",
      ">loaded 5 examples for class: madonna\n",
      ">loaded 5 examples for class: mindy_kaling\n",
      ">loaded 5 examples for class: totti\n",
      "(34, 160, 160, 3) (34,)\n"
     ]
    }
   ],
   "source": [
    "import numpy\n",
    "\n",
    "# load train dataset\n",
    "trainX, trainy = load_dataset('C:/Users/loren/Desktop/LSBU/Future technologies/CourseWork2/5-celebrity-faces-dataset/train/')\n",
    "print(trainX.shape, trainy.shape)\n",
    "\n",
    "# load test dataset\n",
    "testX, testy = load_dataset('C:/Users/loren/Desktop/LSBU/Future technologies/CourseWork2/5-celebrity-faces-dataset/val/')\n",
    "print(testX.shape, testy.shape)\n",
    "\n",
    "# save arrays to one file in compressed format\n",
    "numpy.savez_compressed('5-celebrity-faces-dataset.npz', trainX, trainy, testX, testy) "
   ]
  },
  {
   "cell_type": "markdown",
   "metadata": {},
   "source": [
    "# Embedding"
   ]
  },
  {
   "cell_type": "code",
   "execution_count": 10,
   "metadata": {},
   "outputs": [],
   "source": [
    "# calculate a face embedding for each face in the dataset using facenet\n",
    "from numpy import load\n",
    "from numpy import expand_dims\n",
    "from numpy import asarray\n",
    "from numpy import savez_compressed\n",
    "from keras.models import load_model\n",
    "\n",
    "\n",
    "# get the face embedding=incorporamento for one face\n",
    "def get_embedding(model, face_pixels):\n",
    "    # scale pixel values\n",
    "    face_pixels = face_pixels.astype('float32') \n",
    "    \n",
    "    # standardize pixel values across channels (global)\n",
    "    mean, std = face_pixels.mean(), face_pixels.std()\n",
    "    face_pixels = (face_pixels - mean) / std   \n",
    "    \n",
    "    # transform face into one sample=campione\n",
    "    samples = expand_dims(face_pixels, axis=0) #This function expands the array by inserting a new axis at the specified position.\n",
    "    \n",
    "    # make prediction to get embedding\n",
    "    yhat = model.predict(samples)\n",
    "    return yhat[0]"
   ]
  },
  {
   "cell_type": "code",
   "execution_count": 11,
   "metadata": {
    "scrolled": true
   },
   "outputs": [
    {
     "name": "stdout",
     "output_type": "stream",
     "text": [
      "Loaded:  (113, 160, 160, 3) (113,) (34, 160, 160, 3) (34,)\n"
     ]
    },
    {
     "name": "stderr",
     "output_type": "stream",
     "text": [
      "C:\\Users\\loren\\AppData\\Local\\Continuum\\anaconda3\\lib\\site-packages\\keras\\engine\\saving.py:341: UserWarning: No training configuration found in save file: the model was *not* compiled. Compile it manually.\n",
      "  warnings.warn('No training configuration found in save file: '\n"
     ]
    },
    {
     "name": "stdout",
     "output_type": "stream",
     "text": [
      "Loaded Model\n",
      "(113, 128)\n",
      "(34, 128)\n"
     ]
    }
   ],
   "source": [
    "\n",
    "#embedding# load the face dataset\n",
    "data = load('5-celebrity-faces-dataset.npz')\n",
    "trainX, trainy, testX, testy = data['arr_0'], data['arr_1'], data['arr_2'], data['arr_3']\n",
    "print('Loaded: ', trainX.shape, trainy.shape, testX.shape, testy.shape)\n",
    "\n",
    "# load the facenet model\n",
    "model = load_model('facenet_keras.h5') #facenet model embedd data\n",
    "print('Loaded Model')\n",
    "\n",
    "# convert each face in the train set to an embedding\n",
    "newTrainX = list()\n",
    "for face_pixels in trainX:\n",
    "    embedding = get_embedding(model, face_pixels)\n",
    "    newTrainX.append(embedding)\n",
    "newTrainX = asarray(newTrainX)\n",
    "print(newTrainX.shape)\n",
    "\n",
    "# convert each face in the test set to an embedding\n",
    "newTestX = list()\n",
    "for face_pixels in testX:\n",
    "    embedding = get_embedding(model, face_pixels)\n",
    "    newTestX.append(embedding)\n",
    "newTestX = asarray(newTestX)\n",
    "print(newTestX.shape)\n",
    "\n",
    "# save arrays to one file in compressed form\n",
    "numpy.savez_compressed('5-celebrity-faces-embeddings.npz', newTrainX, trainy, newTestX, testy)\n",
    "\n"
   ]
  },
  {
   "cell_type": "code",
   "execution_count": 12,
   "metadata": {},
   "outputs": [
    {
     "name": "stdout",
     "output_type": "stream",
     "text": [
      "Dataset: train=113, test=34\n",
      "Accuracy: train=100.000, test=100.000\n"
     ]
    }
   ],
   "source": [
    "#develop a classifier for the 5 Celebrity Faces Dataset\n",
    "from numpy import load\n",
    "from sklearn.metrics import accuracy_score\n",
    "from sklearn.preprocessing import LabelEncoder\n",
    "from sklearn.preprocessing import Normalizer\n",
    "from sklearn.svm import SVC\n",
    "\n",
    "# load dataset\n",
    "data = load('5-celebrity-faces-embeddings.npz')\n",
    "trainX, trainy, testX, testy = data['arr_0'], data['arr_1'], data['arr_2'], data['arr_3']\n",
    "print('Dataset: train=%d, test=%d' % (trainX.shape[0], testX.shape[0]))\n",
    "\n",
    "# normalize input vectors\n",
    "in_encoder = Normalizer(norm='l2')    \n",
    "trainX = in_encoder.transform(trainX) #transform labels to normalized encoding\n",
    "testX = in_encoder.transform(testX)   \n",
    "\n",
    "# label encode targets\n",
    "out_encoder = LabelEncoder() \n",
    "out_encoder.fit(trainy)                 #transform non-numerical labels to numerical labels normalizzati\n",
    "trainy = out_encoder.transform(trainy)  #transform labels to normalized encoding\n",
    "testy = out_encoder.transform(testy)    \n",
    "\n",
    "# FIT MODEL\n",
    "model = SVC(kernel='linear', probability=True)  \n",
    "model.fit(trainX, trainy)\n",
    "\n",
    "# PREDICT\n",
    "yhat_train = model.predict(trainX)\n",
    "yhat_test = model.predict(testX)\n",
    "\n",
    "# score\n",
    "score_train = accuracy_score(trainy, yhat_train)\n",
    "score_test = accuracy_score(testy, yhat_test)\n",
    "\n",
    "# summarize\n",
    "print('Accuracy: train=%.3f, test=%.3f' % (score_train*100, score_test*100))"
   ]
  },
  {
   "cell_type": "code",
   "execution_count": 13,
   "metadata": {},
   "outputs": [
    {
     "name": "stdout",
     "output_type": "stream",
     "text": [
      "Predicted: mindy_kaling (89.838)\n",
      "Expected: mindy_kaling\n"
     ]
    },
    {
     "data": {
      "image/png": "[encoded data removed]",
      "text/plain": [
       "<Figure size 432x288 with 1 Axes>"
      ]
     },
     "metadata": {
      "needs_background": "light"
     },
     "output_type": "display_data"
    }
   ],
   "source": [
    "# load faces\n",
    "data = load('5-celebrity-faces-dataset.npz')\n",
    "testX_faces = data['arr_2']\n",
    "\n",
    "from random import choice\n",
    "\n",
    "# test model on a random example from the test dataset\n",
    "selection = choice([i for i in range(testX.shape[0])])  #random cycle where it is choose the position\n",
    "random_face_pixels = testX_faces[selection] #pick up the images thanks to the position from face_pixels\n",
    "random_face_emb = testX[selection]  #pick up the images thanks to the position from face_embedding\n",
    "random_face_class = testy[selection] #pick up the images thanks to the position from face_class\n",
    "random_face_name = out_encoder.inverse_transform([random_face_class])   #Transform labels back to original encoding\n",
    "\n",
    "# prediction for the face\n",
    "samples = expand_dims(random_face_emb, axis=0)  #Expand the shape of an array. Insert a new axis that will appear at the axis position in the expanded array shape.\n",
    "yhat_class = model.predict(samples) \n",
    "yhat_prob = model.predict_proba(samples)\n",
    "\n",
    "# get name\n",
    "class_index = yhat_class[0] #give back the picture name\n",
    "class_probability = yhat_prob[0,class_index] * 100  #percentage\n",
    "predict_names = out_encoder.inverse_transform(yhat_class) #cancel expand dims\n",
    "\n",
    "print('Predicted: %s (%.3f)' % (predict_names[0], class_probability)) #name predicted\n",
    "print('Expected: %s' % random_face_name[0]) #name randam choosen\n",
    "\n",
    "# plot\n",
    "pyplot.imshow(random_face_pixels) #Display an image\n",
    "title = '%s (%.3f)' % (predict_names[0], class_probability)\n",
    "pyplot.title(title)\n",
    "pyplot.show()"
   ]
  },
  {
   "cell_type": "code",
   "execution_count": 14,
   "metadata": {},
   "outputs": [],
   "source": [
    "import PIL\n",
    "\n",
    "from tkinter import *\n",
    "from PIL import ImageTk\n",
    "from PIL import Image\n",
    "\n",
    "if predict_names[0] == 'totti':\n",
    "    image=Image.open('C:/Users/loren/Desktop/LSBU/Future technologies/CourseWork2/5-celebrity-faces-dataset/data/val/totti/Roma-Totti.jpg')\n",
    "    \n",
    "elif predict_names[0] == 'madonna':\n",
    "    image=Image.open('C:/Users/loren/Desktop/LSBU/Future technologies/CourseWork2/5-celebrity-faces-dataset/data/val/madonna/httpcdncdnjustjaredcomwpcontentuploadsheadlinesmadonnatalksparisattackstearsjpg.jpg')\n",
    "    \n",
    "elif predict_names[0] == 'ben_afflek':\n",
    "    image=Image.open('C:/Users/loren/Desktop/LSBU/Future technologies/CourseWork2/5-celebrity-faces-dataset/data/val/ben_afflek/httpcsvkmeuadecafjpg.jpg')\n",
    "    \n",
    "elif predict_names[0] == 'jerry_seinfeld':\n",
    "    image=Image.open('C:/Users/loren/Desktop/LSBU/Future technologies/CourseWork2/5-celebrity-faces-dataset/data/val/jerry_seinfeld/httpaurorasblogcomwpcontentuploadsjerryseinfeldpublicityshotjpg.jpg')\n",
    "    \n",
    "elif predict_names[0] == 'mindy_kaling':\n",
    "    image=Image.open('C:/Users/loren/Desktop/LSBU/Future technologies/CourseWork2/5-celebrity-faces-dataset/data/val/mindy_kaling/httpafilesbiographycomimageuploadcfillcssrgbdprgfacehqwMTIOTcwODQNTUzNjQMzcjpg.jpg')\n",
    "\n",
    "    \n",
    "elif predict_names[0] == 'elton_john':\n",
    "    image=Image.open('C:/Users/loren/Desktop/LSBU/Future technologies/CourseWork2/5-celebrity-faces-dataset/data/val/elton_john/httpafilesbiographycomimageuploadcfillcssrgbdprgfacehqwMTEODAOTcxNjcMjczMjkzjpg.jpg')\n",
    "    \n",
    "elif predict_names[0] == 'di_Caprio':\n",
    "    image=Image.open('C:/Users/loren/Desktop/LSBU/Future technologies/CourseWork2/5-celebrity-faces-dataset/data/val/di_Caprio/10.jpg')\n"
   ]
  },
  {
   "cell_type": "code",
   "execution_count": 15,
   "metadata": {},
   "outputs": [],
   "source": [
    "root = Tk()\n",
    "root.title('FACE DETECTION - Course Work 2 - FIT')\n",
    "\n",
    "image1 = ImageTk.PhotoImage(image)\n",
    "label = Label(image = image1)\n",
    "label.pack()\n",
    "                          \n",
    "root.mainloop()                     "
   ]
  }
 ],
 "metadata": {
  "kernelspec": {
   "display_name": "Python 3",
   "language": "python",
   "name": "python3"
  },
  "language_info": {
   "codemirror_mode": {
    "name": "ipython",
    "version": 3
   },
   "file_extension": ".py",
   "mimetype": "text/x-python",
   "name": "python",
   "nbconvert_exporter": "python",
   "pygments_lexer": "ipython3",
   "version": "3.7.4"
  }
 },
 "nbformat": 4,
 "nbformat_minor": 2
}
